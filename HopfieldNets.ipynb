{
 "cells": [
  {
   "cell_type": "code",
   "execution_count": 1,
   "metadata": {
    "ExecuteTime": {
     "end_time": "2023-03-03T14:26:46.130715Z",
     "start_time": "2023-03-03T14:26:46.114453Z"
    }
   },
   "outputs": [
    {
     "name": "stdout",
     "output_type": "stream",
     "text": [
      "Input pattern:  [ 1  1 -1]\n",
      "Output pattern:  [ 1.  1. -1.]\n"
     ]
    }
   ],
   "source": [
    "import numpy as np\n",
    "\n",
    "# Classical Hopfield model\n",
    "\n",
    "class HopfieldNet:\n",
    "    def __init__(self, num_neurons):\n",
    "        self.num_neurons = num_neurons\n",
    "        self.weights = np.zeros((num_neurons, num_neurons))\n",
    "\n",
    "    def train(self, patterns):\n",
    "        for pattern in patterns:\n",
    "            self.weights += np.outer(pattern, pattern)\n",
    "        np.fill_diagonal(self.weights, 0)\n",
    "\n",
    "    def recall(self, input_pattern):\n",
    "        output_pattern = np.copy(input_pattern)\n",
    "        while True:\n",
    "            prev_output = np.copy(output_pattern)\n",
    "            output_pattern = np.sign(np.dot(self.weights, output_pattern))\n",
    "            if np.array_equal(output_pattern, prev_output):\n",
    "                break\n",
    "        return output_pattern\n",
    "\n",
    "    \n",
    "# Define the input patterns\n",
    "patterns = np.array([[1, 1, -1], [-1, -1, 1], [1, -1, -1]])\n",
    "\n",
    "# Create a Hopfield network with 3 neurons\n",
    "net = HopfieldNet(num_neurons=3)\n",
    "\n",
    "# Train the network with the patterns\n",
    "net.train(patterns)\n",
    "\n",
    "# Test the network with a corrupted version of a pattern\n",
    "input_pattern = np.array([1, 1, -1])\n",
    "output_pattern = net.recall(input_pattern)\n",
    "\n",
    "print(\"Input pattern: \", input_pattern)\n",
    "print(\"Output pattern: \", output_pattern)\n",
    "\n"
   ]
  },
  {
   "cell_type": "code",
   "execution_count": 2,
   "metadata": {
    "ExecuteTime": {
     "end_time": "2023-03-03T14:26:47.379351Z",
     "start_time": "2023-03-03T14:26:47.365253Z"
    }
   },
   "outputs": [
    {
     "name": "stdout",
     "output_type": "stream",
     "text": [
      "Input pattern:  [-1 -1  1]\n",
      "Output pattern:  [-1 -1  1]\n"
     ]
    }
   ],
   "source": [
    "import numpy as np\n",
    "\n",
    "# Modern Hopfielfd model (aka Dense Associative Memories) without training (weight matrix), based on an exponential energy function using update Eq. 17 from https://ml-jku.github.io/hopfield-layers/#beyond\n",
    "\n",
    "class ModernHopfieldNet:\n",
    "    def __init__(self, num_neurons):\n",
    "        self.num_neurons = num_neurons\n",
    "\n",
    "    def recall(self, patterns, input_pattern):\n",
    "        output_pattern = np.copy(input_pattern)\n",
    "        for l in range(self.num_neurons):\n",
    "            x_plus = np.copy(output_pattern)\n",
    "            x_plus[l] = 1\n",
    "            x_minus = np.copy(output_pattern)\n",
    "            x_minus[l] = -1\n",
    "            energy_plus = sum([np.exp(np.dot(pattern, x_plus)) for pattern in patterns])\n",
    "            energy_minus = sum([np.exp(np.dot(pattern, x_minus)) for pattern in patterns])\n",
    "            output_pattern[l] = np.sign(energy_plus - energy_minus)\n",
    "        return output_pattern\n",
    "\n",
    "    \n",
    "# Define the input patterns\n",
    "patterns = np.array([[1, 1, -1], [-1, -1, 1], [1, -1, -1]])\n",
    "\n",
    "# Create a Modern Hopfield network with three neurons\n",
    "net = ModernHopfieldNet(num_neurons=3)\n",
    "\n",
    "# Test the network with a corrupted version of a pattern\n",
    "input_pattern = np.array([-1, -1, 1])\n",
    "output_pattern = net.recall(patterns, input_pattern)\n",
    "\n",
    "print(\"Input pattern: \", input_pattern)\n",
    "print(\"Output pattern: \", output_pattern)"
   ]
  }
 ],
 "metadata": {
  "hide_input": false,
  "kernelspec": {
   "display_name": "Python 3 (ipykernel)",
   "language": "python",
   "name": "python3"
  },
  "language_info": {
   "codemirror_mode": {
    "name": "ipython",
    "version": 3
   },
   "file_extension": ".py",
   "mimetype": "text/x-python",
   "name": "python",
   "nbconvert_exporter": "python",
   "pygments_lexer": "ipython3",
   "version": "3.9.13"
  },
  "varInspector": {
   "cols": {
    "lenName": 16,
    "lenType": 16,
    "lenVar": 40
   },
   "kernels_config": {
    "python": {
     "delete_cmd_postfix": "",
     "delete_cmd_prefix": "del ",
     "library": "var_list.py",
     "varRefreshCmd": "print(var_dic_list())"
    },
    "r": {
     "delete_cmd_postfix": ") ",
     "delete_cmd_prefix": "rm(",
     "library": "var_list.r",
     "varRefreshCmd": "cat(var_dic_list()) "
    }
   },
   "types_to_exclude": [
    "module",
    "function",
    "builtin_function_or_method",
    "instance",
    "_Feature"
   ],
   "window_display": false
  }
 },
 "nbformat": 4,
 "nbformat_minor": 2
}
